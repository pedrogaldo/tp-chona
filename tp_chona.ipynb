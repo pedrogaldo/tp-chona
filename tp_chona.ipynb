{
  "nbformat": 4,
  "nbformat_minor": 0,
  "metadata": {
    "colab": {
      "provenance": [],
      "collapsed_sections": [],
      "include_colab_link": true
    },
    "kernelspec": {
      "name": "python3",
      "display_name": "Python 3"
    },
    "language_info": {
      "name": "python"
    }
  },
  "cells": [
    {
      "cell_type": "markdown",
      "metadata": {
        "id": "view-in-github",
        "colab_type": "text"
      },
      "source": [
        "<a href=\"https://colab.research.google.com/github/pedrogaldo/tp-chona/blob/main/tp_chona.ipynb\" target=\"_parent\"><img src=\"https://colab.research.google.com/assets/colab-badge.svg\" alt=\"Open In Colab\"/></a>"
      ]
    },
    {
      "cell_type": "markdown",
      "source": [
        "https://docs.google.com/document/d/10WfCkmVFVB0ajJueBD7F5wmoKHKfUKGWVbcCIragSKk/edit\n",
        "\n",
        "\n",
        "\n",
        "\n",
        "https://drive.google.com/drive/folders/1buo6DsXQfqWIvUHIyZTNisaog57awkuT"
      ],
      "metadata": {
        "id": "wCkSosIe_WSx"
      }
    },
    {
      "cell_type": "code",
      "execution_count": 5,
      "metadata": {
        "id": "S6wY5Gi0_EpH"
      },
      "outputs": [],
      "source": [
        "import pandas as pd\n",
        "import matplotlib as plt\n",
        "import seaborn as sb"
      ]
    },
    {
      "cell_type": "markdown",
      "source": [
        "IMPORTO EL HISTORIAL"
      ],
      "metadata": {
        "id": "-_WBJ1k-w9Sa"
      }
    },
    {
      "cell_type": "code",
      "source": [
        "historial_ = pd.read_csv('NetflixHistory.csv')"
      ],
      "metadata": {
        "id": "UqhzGTRE_oLe"
      },
      "execution_count": 6,
      "outputs": []
    },
    {
      "cell_type": "markdown",
      "source": [
        "CREO FUNCION DE FILTRADO"
      ],
      "metadata": {
        "id": "UINhkJg3w4oO"
      }
    },
    {
      "cell_type": "code",
      "source": [
        "def filt_hist(disp):\n",
        "  return disp not in ['Sony PS4', 'Netflix Windows App - Cadmium Windows Mobile', 'Apple iPhone 6s', 'Apple iPhone 7 Plus (CDMA)', 'Chrome PC (Cadmium)', 'Samsung 2015 NT14M DTV Smart TV', 'iPhone 5S GSM', 'Google Chromecast V3 Streaming Stick']"
      ],
      "metadata": {
        "id": "SteakgVbB41b"
      },
      "execution_count": 7,
      "outputs": []
    },
    {
      "cell_type": "markdown",
      "source": [
        "APLICO FILTRACION"
      ],
      "metadata": {
        "id": "vRpO7-oCw1pb"
      }
    },
    {
      "cell_type": "code",
      "source": [
        "historial = historial_[historial_[\"Device Type\"].apply(filt_hist)]"
      ],
      "metadata": {
        "id": "EYmD7GnzDCS_"
      },
      "execution_count": 8,
      "outputs": []
    },
    {
      "cell_type": "markdown",
      "source": [
        "EJERCICIO A"
      ],
      "metadata": {
        "id": "Mli3Uca5xCAX"
      }
    },
    {
      "cell_type": "code",
      "source": [
        "historial[\"Device Type\"].value_counts().idxmax()"
      ],
      "metadata": {
        "colab": {
          "base_uri": "https://localhost:8080/",
          "height": 35
        },
        "id": "qzF9GnPswxxz",
        "outputId": "00eb9e66-2bcf-4b2e-e641-3f49694dbf4c"
      },
      "execution_count": 9,
      "outputs": [
        {
          "output_type": "execute_result",
          "data": {
            "text/plain": [
              "'Apple Apple TV 4 Apple TV'"
            ],
            "application/vnd.google.colaboratory.intrinsic+json": {
              "type": "string"
            }
          },
          "metadata": {},
          "execution_count": 9
        }
      ]
    },
    {
      "cell_type": "markdown",
      "source": [
        "EJERCICIO B"
      ],
      "metadata": {
        "id": "vaFbI9ukxi_e"
      }
    },
    {
      "cell_type": "code",
      "source": [
        "#filtramos las peliculas en la tabla\n",
        "peliculas = historial[historial.Title.str.contains('Capítulo')==False]"
      ],
      "metadata": {
        "id": "sc7rkakM6zE_"
      },
      "execution_count": 10,
      "outputs": []
    },
    {
      "cell_type": "code",
      "source": [
        "peliculas[\"Title\"].value_counts().idxmax()"
      ],
      "metadata": {
        "colab": {
          "base_uri": "https://localhost:8080/",
          "height": 35
        },
        "id": "GiVBH_mrDk-3",
        "outputId": "a6877659-3ac4-4405-f44d-2230cee9e6ea"
      },
      "execution_count": 11,
      "outputs": [
        {
          "output_type": "execute_result",
          "data": {
            "text/plain": [
              "'Star Wars: El Imperio contraataca'"
            ],
            "application/vnd.google.colaboratory.intrinsic+json": {
              "type": "string"
            }
          },
          "metadata": {},
          "execution_count": 11
        }
      ]
    },
    {
      "cell_type": "code",
      "source": [
        "#convertimos la duracion de las peliculas  a segundos\n",
        "\n",
        "def duracion(tiempo):\n",
        "  tiempoF = []\n",
        "  tiempo = tiempo.split(\":\",2)\n",
        "\n",
        "  for i in range(len(tiempo)):\n",
        "    tiempoF.append(int(tiempo[i]))\n",
        "  tiempo_segundos = tiempoF[0]*3600 + tiempoF[1]*60 + tiempoF[2]\n",
        "\n",
        "  return tiempo_segundos"
      ],
      "metadata": {
        "id": "R8nsGNxhnPgv"
      },
      "execution_count": 22,
      "outputs": []
    },
    {
      "cell_type": "code",
      "source": [
        "#pelicula mas larga\n",
        "masLarga = peliculas['Duration'].max()\n",
        "peliculas[['Title','Duration']][peliculas['Duration']==masLarga]"
      ],
      "metadata": {
        "colab": {
          "base_uri": "https://localhost:8080/",
          "height": 81
        },
        "id": "WxJal5sQodas",
        "outputId": "93fdf49b-67f3-46db-b231-e41278ab77a8"
      },
      "execution_count": 24,
      "outputs": [
        {
          "output_type": "execute_result",
          "data": {
            "text/plain": [
              "                    Title  Duration\n",
              "8127  El club de la pelea  02:20:11"
            ],
            "text/html": [
              "\n",
              "  <div id=\"df-3906440b-d4a3-40cb-ad29-0eaacdcb6e24\">\n",
              "    <div class=\"colab-df-container\">\n",
              "      <div>\n",
              "<style scoped>\n",
              "    .dataframe tbody tr th:only-of-type {\n",
              "        vertical-align: middle;\n",
              "    }\n",
              "\n",
              "    .dataframe tbody tr th {\n",
              "        vertical-align: top;\n",
              "    }\n",
              "\n",
              "    .dataframe thead th {\n",
              "        text-align: right;\n",
              "    }\n",
              "</style>\n",
              "<table border=\"1\" class=\"dataframe\">\n",
              "  <thead>\n",
              "    <tr style=\"text-align: right;\">\n",
              "      <th></th>\n",
              "      <th>Title</th>\n",
              "      <th>Duration</th>\n",
              "    </tr>\n",
              "  </thead>\n",
              "  <tbody>\n",
              "    <tr>\n",
              "      <th>8127</th>\n",
              "      <td>El club de la pelea</td>\n",
              "      <td>02:20:11</td>\n",
              "    </tr>\n",
              "  </tbody>\n",
              "</table>\n",
              "</div>\n",
              "      <button class=\"colab-df-convert\" onclick=\"convertToInteractive('df-3906440b-d4a3-40cb-ad29-0eaacdcb6e24')\"\n",
              "              title=\"Convert this dataframe to an interactive table.\"\n",
              "              style=\"display:none;\">\n",
              "        \n",
              "  <svg xmlns=\"http://www.w3.org/2000/svg\" height=\"24px\"viewBox=\"0 0 24 24\"\n",
              "       width=\"24px\">\n",
              "    <path d=\"M0 0h24v24H0V0z\" fill=\"none\"/>\n",
              "    <path d=\"M18.56 5.44l.94 2.06.94-2.06 2.06-.94-2.06-.94-.94-2.06-.94 2.06-2.06.94zm-11 1L8.5 8.5l.94-2.06 2.06-.94-2.06-.94L8.5 2.5l-.94 2.06-2.06.94zm10 10l.94 2.06.94-2.06 2.06-.94-2.06-.94-.94-2.06-.94 2.06-2.06.94z\"/><path d=\"M17.41 7.96l-1.37-1.37c-.4-.4-.92-.59-1.43-.59-.52 0-1.04.2-1.43.59L10.3 9.45l-7.72 7.72c-.78.78-.78 2.05 0 2.83L4 21.41c.39.39.9.59 1.41.59.51 0 1.02-.2 1.41-.59l7.78-7.78 2.81-2.81c.8-.78.8-2.07 0-2.86zM5.41 20L4 18.59l7.72-7.72 1.47 1.35L5.41 20z\"/>\n",
              "  </svg>\n",
              "      </button>\n",
              "      \n",
              "  <style>\n",
              "    .colab-df-container {\n",
              "      display:flex;\n",
              "      flex-wrap:wrap;\n",
              "      gap: 12px;\n",
              "    }\n",
              "\n",
              "    .colab-df-convert {\n",
              "      background-color: #E8F0FE;\n",
              "      border: none;\n",
              "      border-radius: 50%;\n",
              "      cursor: pointer;\n",
              "      display: none;\n",
              "      fill: #1967D2;\n",
              "      height: 32px;\n",
              "      padding: 0 0 0 0;\n",
              "      width: 32px;\n",
              "    }\n",
              "\n",
              "    .colab-df-convert:hover {\n",
              "      background-color: #E2EBFA;\n",
              "      box-shadow: 0px 1px 2px rgba(60, 64, 67, 0.3), 0px 1px 3px 1px rgba(60, 64, 67, 0.15);\n",
              "      fill: #174EA6;\n",
              "    }\n",
              "\n",
              "    [theme=dark] .colab-df-convert {\n",
              "      background-color: #3B4455;\n",
              "      fill: #D2E3FC;\n",
              "    }\n",
              "\n",
              "    [theme=dark] .colab-df-convert:hover {\n",
              "      background-color: #434B5C;\n",
              "      box-shadow: 0px 1px 3px 1px rgba(0, 0, 0, 0.15);\n",
              "      filter: drop-shadow(0px 1px 2px rgba(0, 0, 0, 0.3));\n",
              "      fill: #FFFFFF;\n",
              "    }\n",
              "  </style>\n",
              "\n",
              "      <script>\n",
              "        const buttonEl =\n",
              "          document.querySelector('#df-3906440b-d4a3-40cb-ad29-0eaacdcb6e24 button.colab-df-convert');\n",
              "        buttonEl.style.display =\n",
              "          google.colab.kernel.accessAllowed ? 'block' : 'none';\n",
              "\n",
              "        async function convertToInteractive(key) {\n",
              "          const element = document.querySelector('#df-3906440b-d4a3-40cb-ad29-0eaacdcb6e24');\n",
              "          const dataTable =\n",
              "            await google.colab.kernel.invokeFunction('convertToInteractive',\n",
              "                                                     [key], {});\n",
              "          if (!dataTable) return;\n",
              "\n",
              "          const docLinkHtml = 'Like what you see? Visit the ' +\n",
              "            '<a target=\"_blank\" href=https://colab.research.google.com/notebooks/data_table.ipynb>data table notebook</a>'\n",
              "            + ' to learn more about interactive tables.';\n",
              "          element.innerHTML = '';\n",
              "          dataTable['output_type'] = 'display_data';\n",
              "          await google.colab.output.renderOutput(dataTable, element);\n",
              "          const docLink = document.createElement('div');\n",
              "          docLink.innerHTML = docLinkHtml;\n",
              "          element.appendChild(docLink);\n",
              "        }\n",
              "      </script>\n",
              "    </div>\n",
              "  </div>\n",
              "  "
            ]
          },
          "metadata": {},
          "execution_count": 24
        }
      ]
    },
    {
      "cell_type": "markdown",
      "source": [
        "EJERCICIO C"
      ],
      "metadata": {
        "id": "1e51S6bDqURQ"
      }
    },
    {
      "cell_type": "code",
      "source": [
        "#filtramos solo las series de la tabla\n",
        "Solo_series = historial[historial.Title.str.contains('Capítulo')==True]\n",
        "series = Solo_series['Title']"
      ],
      "metadata": {
        "id": "RVtW1LyQqHeN"
      },
      "execution_count": 38,
      "outputs": []
    },
    {
      "cell_type": "code",
      "source": [
        "nombre_series = []\n",
        "for Serie in series:\n",
        "  nombre = Serie.split(\":\",2)\n",
        "  nombreReal=nombre[0]\n",
        "  nombre_series.append(nombreReal)"
      ],
      "metadata": {
        "id": "ndG7FrB5q2C9"
      },
      "execution_count": 41,
      "outputs": []
    },
    {
      "cell_type": "markdown",
      "source": [
        "Ejercicio 4"
      ],
      "metadata": {
        "id": "LQZPzt0Ovaen"
      }
    },
    {
      "cell_type": "code",
      "source": [
        "Solo_series"
      ],
      "metadata": {
        "id": "Fjk2Wh_oveue"
      },
      "execution_count": null,
      "outputs": []
    }
  ]
}