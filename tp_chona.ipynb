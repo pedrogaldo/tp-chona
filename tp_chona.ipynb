{
  "nbformat": 4,
  "nbformat_minor": 0,
  "metadata": {
    "colab": {
      "provenance": [],
      "collapsed_sections": [
        "0sriWTN0SexP",
        "Dhr017SCSh4H"
      ],
      "include_colab_link": true
    },
    "kernelspec": {
      "name": "python3",
      "display_name": "Python 3"
    },
    "language_info": {
      "name": "python"
    }
  },
  "cells": [
    {
      "cell_type": "markdown",
      "metadata": {
        "id": "view-in-github",
        "colab_type": "text"
      },
      "source": [
        "<a href=\"https://colab.research.google.com/github/pedrogaldo/tp-chona/blob/main/tp_chona.ipynb\" target=\"_parent\"><img src=\"https://colab.research.google.com/assets/colab-badge.svg\" alt=\"Open In Colab\"/></a>"
      ]
    },
    {
      "cell_type": "markdown",
      "source": [
        "# CONFIGURACIONES"
      ],
      "metadata": {
        "id": "MbapDwqWXGTH"
      }
    },
    {
      "cell_type": "code",
      "execution_count": 311,
      "metadata": {
        "id": "S6wY5Gi0_EpH"
      },
      "outputs": [],
      "source": [
        "import pandas as pd\n",
        "import matplotlib.pyplot as plt\n",
        "import numpy as np\n",
        "from datetime import datetime\n",
        "import seaborn as sb"
      ]
    },
    {
      "cell_type": "code",
      "source": [
        "#tamaño default de los plots\n",
        "sb.set(rc={\"figure.figsize\":(15, 7)})\n",
        "plt.figure(figsize=(15, 7), dpi=80)"
      ],
      "metadata": {
        "colab": {
          "base_uri": "https://localhost:8080/",
          "height": 52
        },
        "id": "lC2D8De0Y_5V",
        "outputId": "6d9b70a2-32f8-4566-a8e2-057446b4e03e"
      },
      "execution_count": 312,
      "outputs": [
        {
          "output_type": "execute_result",
          "data": {
            "text/plain": [
              "<Figure size 1200x560 with 0 Axes>"
            ]
          },
          "metadata": {},
          "execution_count": 312
        },
        {
          "output_type": "display_data",
          "data": {
            "text/plain": [
              "<Figure size 1200x560 with 0 Axes>"
            ]
          },
          "metadata": {}
        }
      ]
    },
    {
      "cell_type": "markdown",
      "source": [
        "IMPORTO EL HISTORIAL"
      ],
      "metadata": {
        "id": "-_WBJ1k-w9Sa"
      }
    },
    {
      "cell_type": "code",
      "source": [
        "historial_ = pd.read_csv('NetflixHistory.csv')"
      ],
      "metadata": {
        "id": "UqhzGTRE_oLe"
      },
      "execution_count": 313,
      "outputs": []
    },
    {
      "cell_type": "markdown",
      "source": [
        "convertir la duracion a segundos\n"
      ],
      "metadata": {
        "id": "aWLVpXvVz1jV"
      }
    },
    {
      "cell_type": "code",
      "source": [
        "def cambia_a_segundos(tiempo):\n",
        "  horas, minutos, segundos = tiempo.split(':')\n",
        "  tiempo_segundos = int(horas) * 3600 + int(minutos) * 60 + int(segundos)\n",
        "  return tiempo_segundos"
      ],
      "metadata": {
        "id": "R8nsGNxhnPgv"
      },
      "execution_count": 314,
      "outputs": []
    },
    {
      "cell_type": "markdown",
      "source": [
        "CREO FUNCION DE FILTRADO"
      ],
      "metadata": {
        "id": "UINhkJg3w4oO"
      }
    },
    {
      "cell_type": "code",
      "source": [
        "def filt_hist(disp):\n",
        "  return disp not in ['Sony PS4', 'Netflix Windows App - Cadmium Windows Mobile', 'Apple iPhone 6s', 'Apple iPhone 7 Plus (CDMA)', 'Chrome PC (Cadmium)', 'Samsung 2015 NT14M DTV Smart TV', 'iPhone 5S GSM', 'Google Chromecast V3 Streaming Stick']"
      ],
      "metadata": {
        "id": "SteakgVbB41b"
      },
      "execution_count": 315,
      "outputs": []
    },
    {
      "cell_type": "markdown",
      "source": [
        "APLICO FILTRACION"
      ],
      "metadata": {
        "id": "vRpO7-oCw1pb"
      }
    },
    {
      "cell_type": "code",
      "source": [
        "historial = historial_[historial_[\"Device Type\"].apply(filt_hist)]"
      ],
      "metadata": {
        "id": "EYmD7GnzDCS_"
      },
      "execution_count": 316,
      "outputs": []
    },
    {
      "cell_type": "markdown",
      "source": [
        "# EJERCICIO A"
      ],
      "metadata": {
        "id": "Mli3Uca5xCAX"
      }
    },
    {
      "cell_type": "code",
      "source": [
        "historial[\"Device Type\"].value_counts().idxmax()"
      ],
      "metadata": {
        "colab": {
          "base_uri": "https://localhost:8080/",
          "height": 35
        },
        "id": "qzF9GnPswxxz",
        "outputId": "6dd2c51d-2b84-4224-d0d7-6780a22488b7"
      },
      "execution_count": 317,
      "outputs": [
        {
          "output_type": "execute_result",
          "data": {
            "text/plain": [
              "'Apple Apple TV 4 Apple TV'"
            ],
            "application/vnd.google.colaboratory.intrinsic+json": {
              "type": "string"
            }
          },
          "metadata": {},
          "execution_count": 317
        }
      ]
    },
    {
      "cell_type": "markdown",
      "source": [
        "# EJERCICIO B"
      ],
      "metadata": {
        "id": "vaFbI9ukxi_e"
      }
    },
    {
      "cell_type": "code",
      "source": [
        "#filtramos las peliculas en la tabla\n",
        "peliculas = historial[historial.Title.str.contains('Capítulo')==False]"
      ],
      "metadata": {
        "id": "sc7rkakM6zE_"
      },
      "execution_count": 318,
      "outputs": []
    },
    {
      "cell_type": "code",
      "source": [
        "peliculas[\"Title\"].value_counts().idxmax()"
      ],
      "metadata": {
        "colab": {
          "base_uri": "https://localhost:8080/",
          "height": 35
        },
        "id": "GiVBH_mrDk-3",
        "outputId": "7f16c396-c9ab-4f9b-fc6c-726abede5c5b"
      },
      "execution_count": 319,
      "outputs": [
        {
          "output_type": "execute_result",
          "data": {
            "text/plain": [
              "'Star Wars: El Imperio contraataca'"
            ],
            "application/vnd.google.colaboratory.intrinsic+json": {
              "type": "string"
            }
          },
          "metadata": {},
          "execution_count": 319
        }
      ]
    },
    {
      "cell_type": "code",
      "source": [
        "#pelicula mas larga\n",
        "masLarga = peliculas['Duration'].max()\n",
        "peliculas[['Title','Duration']][peliculas['Duration']==masLarga]"
      ],
      "metadata": {
        "colab": {
          "base_uri": "https://localhost:8080/",
          "height": 81
        },
        "id": "WxJal5sQodas",
        "outputId": "8fcb395b-51b2-48bc-d121-1135f8654abf"
      },
      "execution_count": 320,
      "outputs": [
        {
          "output_type": "execute_result",
          "data": {
            "text/plain": [
              "                    Title  Duration\n",
              "8127  El club de la pelea  02:20:11"
            ],
            "text/html": [
              "\n",
              "  <div id=\"df-f8402113-f812-425a-b988-ef096c3275ff\">\n",
              "    <div class=\"colab-df-container\">\n",
              "      <div>\n",
              "<style scoped>\n",
              "    .dataframe tbody tr th:only-of-type {\n",
              "        vertical-align: middle;\n",
              "    }\n",
              "\n",
              "    .dataframe tbody tr th {\n",
              "        vertical-align: top;\n",
              "    }\n",
              "\n",
              "    .dataframe thead th {\n",
              "        text-align: right;\n",
              "    }\n",
              "</style>\n",
              "<table border=\"1\" class=\"dataframe\">\n",
              "  <thead>\n",
              "    <tr style=\"text-align: right;\">\n",
              "      <th></th>\n",
              "      <th>Title</th>\n",
              "      <th>Duration</th>\n",
              "    </tr>\n",
              "  </thead>\n",
              "  <tbody>\n",
              "    <tr>\n",
              "      <th>8127</th>\n",
              "      <td>El club de la pelea</td>\n",
              "      <td>02:20:11</td>\n",
              "    </tr>\n",
              "  </tbody>\n",
              "</table>\n",
              "</div>\n",
              "      <button class=\"colab-df-convert\" onclick=\"convertToInteractive('df-f8402113-f812-425a-b988-ef096c3275ff')\"\n",
              "              title=\"Convert this dataframe to an interactive table.\"\n",
              "              style=\"display:none;\">\n",
              "        \n",
              "  <svg xmlns=\"http://www.w3.org/2000/svg\" height=\"24px\"viewBox=\"0 0 24 24\"\n",
              "       width=\"24px\">\n",
              "    <path d=\"M0 0h24v24H0V0z\" fill=\"none\"/>\n",
              "    <path d=\"M18.56 5.44l.94 2.06.94-2.06 2.06-.94-2.06-.94-.94-2.06-.94 2.06-2.06.94zm-11 1L8.5 8.5l.94-2.06 2.06-.94-2.06-.94L8.5 2.5l-.94 2.06-2.06.94zm10 10l.94 2.06.94-2.06 2.06-.94-2.06-.94-.94-2.06-.94 2.06-2.06.94z\"/><path d=\"M17.41 7.96l-1.37-1.37c-.4-.4-.92-.59-1.43-.59-.52 0-1.04.2-1.43.59L10.3 9.45l-7.72 7.72c-.78.78-.78 2.05 0 2.83L4 21.41c.39.39.9.59 1.41.59.51 0 1.02-.2 1.41-.59l7.78-7.78 2.81-2.81c.8-.78.8-2.07 0-2.86zM5.41 20L4 18.59l7.72-7.72 1.47 1.35L5.41 20z\"/>\n",
              "  </svg>\n",
              "      </button>\n",
              "      \n",
              "  <style>\n",
              "    .colab-df-container {\n",
              "      display:flex;\n",
              "      flex-wrap:wrap;\n",
              "      gap: 12px;\n",
              "    }\n",
              "\n",
              "    .colab-df-convert {\n",
              "      background-color: #E8F0FE;\n",
              "      border: none;\n",
              "      border-radius: 50%;\n",
              "      cursor: pointer;\n",
              "      display: none;\n",
              "      fill: #1967D2;\n",
              "      height: 32px;\n",
              "      padding: 0 0 0 0;\n",
              "      width: 32px;\n",
              "    }\n",
              "\n",
              "    .colab-df-convert:hover {\n",
              "      background-color: #E2EBFA;\n",
              "      box-shadow: 0px 1px 2px rgba(60, 64, 67, 0.3), 0px 1px 3px 1px rgba(60, 64, 67, 0.15);\n",
              "      fill: #174EA6;\n",
              "    }\n",
              "\n",
              "    [theme=dark] .colab-df-convert {\n",
              "      background-color: #3B4455;\n",
              "      fill: #D2E3FC;\n",
              "    }\n",
              "\n",
              "    [theme=dark] .colab-df-convert:hover {\n",
              "      background-color: #434B5C;\n",
              "      box-shadow: 0px 1px 3px 1px rgba(0, 0, 0, 0.15);\n",
              "      filter: drop-shadow(0px 1px 2px rgba(0, 0, 0, 0.3));\n",
              "      fill: #FFFFFF;\n",
              "    }\n",
              "  </style>\n",
              "\n",
              "      <script>\n",
              "        const buttonEl =\n",
              "          document.querySelector('#df-f8402113-f812-425a-b988-ef096c3275ff button.colab-df-convert');\n",
              "        buttonEl.style.display =\n",
              "          google.colab.kernel.accessAllowed ? 'block' : 'none';\n",
              "\n",
              "        async function convertToInteractive(key) {\n",
              "          const element = document.querySelector('#df-f8402113-f812-425a-b988-ef096c3275ff');\n",
              "          const dataTable =\n",
              "            await google.colab.kernel.invokeFunction('convertToInteractive',\n",
              "                                                     [key], {});\n",
              "          if (!dataTable) return;\n",
              "\n",
              "          const docLinkHtml = 'Like what you see? Visit the ' +\n",
              "            '<a target=\"_blank\" href=https://colab.research.google.com/notebooks/data_table.ipynb>data table notebook</a>'\n",
              "            + ' to learn more about interactive tables.';\n",
              "          element.innerHTML = '';\n",
              "          dataTable['output_type'] = 'display_data';\n",
              "          await google.colab.output.renderOutput(dataTable, element);\n",
              "          const docLink = document.createElement('div');\n",
              "          docLink.innerHTML = docLinkHtml;\n",
              "          element.appendChild(docLink);\n",
              "        }\n",
              "      </script>\n",
              "    </div>\n",
              "  </div>\n",
              "  "
            ]
          },
          "metadata": {},
          "execution_count": 320
        }
      ]
    },
    {
      "cell_type": "markdown",
      "source": [
        "# EJERCICIO C"
      ],
      "metadata": {
        "id": "1e51S6bDqURQ"
      }
    },
    {
      "cell_type": "code",
      "source": [
        "#filtramos solo las series de la tabla\n",
        "series = historial[historial.Title.str.contains('Capítulo')==True]\n",
        "solo_series = series['Title']"
      ],
      "metadata": {
        "id": "RVtW1LyQqHeN"
      },
      "execution_count": 321,
      "outputs": []
    },
    {
      "cell_type": "code",
      "source": [
        "#aplicamos la funcion que convierte el tiempo a segundos\n",
        "series['Duration'] = series['Duration'].apply(cambia_a_segundos)"
      ],
      "metadata": {
        "colab": {
          "base_uri": "https://localhost:8080/"
        },
        "id": "gCUktRkzw9_h",
        "outputId": "7931d0ee-ac9c-43ed-95d3-ee7035785a22"
      },
      "execution_count": 322,
      "outputs": [
        {
          "output_type": "stream",
          "name": "stderr",
          "text": [
            "/usr/local/lib/python3.7/dist-packages/ipykernel_launcher.py:2: SettingWithCopyWarning: \n",
            "A value is trying to be set on a copy of a slice from a DataFrame.\n",
            "Try using .loc[row_indexer,col_indexer] = value instead\n",
            "\n",
            "See the caveats in the documentation: https://pandas.pydata.org/pandas-docs/stable/user_guide/indexing.html#returning-a-view-versus-a-copy\n",
            "  \n"
          ]
        }
      ]
    },
    {
      "cell_type": "markdown",
      "source": [
        "## i-"
      ],
      "metadata": {
        "id": "0sriWTN0SexP"
      }
    },
    {
      "cell_type": "code",
      "source": [
        "#mas tiempo visto\n",
        "duracion_serie = {}\n",
        "nombre = ''\n",
        "\n",
        "\n",
        "for Serie in series.index:\n",
        "  nombre = (series['Title'][Serie].split(':'))[0]\n",
        "  if nombre not in duracion_serie:\n",
        "    duracion_serie[nombre] = (series['Duration'][Serie])\n",
        "  else:\n",
        "    duracion_serie[nombre] += (series['Duration'][Serie])\n",
        "\n",
        "max(duracion_serie, key=duracion_serie.get)"
      ],
      "metadata": {
        "id": "ndG7FrB5q2C9",
        "colab": {
          "base_uri": "https://localhost:8080/",
          "height": 35
        },
        "outputId": "f29559d4-7911-4e43-8867-16d0aa118d70"
      },
      "execution_count": 323,
      "outputs": [
        {
          "output_type": "execute_result",
          "data": {
            "text/plain": [
              "'Cómo conocí a tu madre'"
            ],
            "application/vnd.google.colaboratory.intrinsic+json": {
              "type": "string"
            }
          },
          "metadata": {},
          "execution_count": 323
        }
      ]
    },
    {
      "cell_type": "code",
      "source": [
        "tiempoSerie, final = {}, {}\n",
        "tiempoSerie = duracion_serie\n",
        "for i in range(10):\n",
        "  final[max(tiempoSerie, key=tiempoSerie.get)] = tiempoSerie[max(tiempoSerie, key=tiempoSerie.get)]\n",
        "  tiempoSerie[max(tiempoSerie, key=tiempoSerie.get)] = 0\n",
        "plt.bar(final.keys(), final.values(), color = 'green')\n",
        "plt.xticks(rotation = -90)\n",
        "plt.show()"
      ],
      "metadata": {
        "colab": {
          "base_uri": "https://localhost:8080/",
          "height": 556
        },
        "id": "cIP_lwbs7Q5g",
        "outputId": "9838ac9d-107b-4ab0-fe1a-58b8f8a5d88f"
      },
      "execution_count": 324,
      "outputs": [
        {
          "output_type": "display_data",
          "data": {
            "text/plain": [
              "<Figure size 1080x504 with 1 Axes>"
            ],
            "image/png": "[encoded data removed]"
          },
          "metadata": {}
        }
      ]
    },
    {
      "cell_type": "markdown",
      "source": [
        "## ii)"
      ],
      "metadata": {
        "id": "Dhr017SCSh4H"
      }
    },
    {
      "cell_type": "code",
      "source": [
        "#hacemos lo mismo que antes pero con las ocurrencias de las series\n",
        "\n",
        "ocurrencias_serie = {}\n",
        "\n",
        "for Serie in series.index:\n",
        "  nombre = (series['Title'][Serie].split(':'))[0]\n",
        "  if nombre not in ocurrencias_serie:\n",
        "    ocurrencias_serie[nombre] = 1\n",
        "  else:\n",
        "    ocurrencias_serie[nombre] += 1\n",
        "\n",
        "max(ocurrencias_serie, key=ocurrencias_serie.get)"
      ],
      "metadata": {
        "colab": {
          "base_uri": "https://localhost:8080/",
          "height": 35
        },
        "id": "SCYBjO1sQc1V",
        "outputId": "4f253cd6-9232-4bf6-a722-3806c7616f3c"
      },
      "execution_count": 325,
      "outputs": [
        {
          "output_type": "execute_result",
          "data": {
            "text/plain": [
              "'Community'"
            ],
            "application/vnd.google.colaboratory.intrinsic+json": {
              "type": "string"
            }
          },
          "metadata": {},
          "execution_count": 325
        }
      ]
    },
    {
      "cell_type": "code",
      "source": [
        "ocurrencias, final_oc = {}, {}\n",
        "ocurrencias = ocurrencias_serie\n",
        "for i in range(10):\n",
        "  final_oc[max(ocurrencias, key=ocurrencias.get)] = ocurrencias[max(ocurrencias, key=ocurrencias.get)]\n",
        "  ocurrencias[max(ocurrencias, key=ocurrencias.get)] = 0\n",
        "plt.bar(final_oc.keys(), final_oc.values(), color = 'green')\n",
        "plt.xticks(rotation = -90)\n",
        "plt.show()"
      ],
      "metadata": {
        "colab": {
          "base_uri": "https://localhost:8080/",
          "height": 556
        },
        "id": "dSE5dGMCTg8R",
        "outputId": "1c812d3d-f8de-4815-d0e7-2b987c08c92e"
      },
      "execution_count": 326,
      "outputs": [
        {
          "output_type": "display_data",
          "data": {
            "text/plain": [
              "<Figure size 1080x504 with 1 Axes>"
            ],
            "image/png": "[encoded data removed]"
          },
          "metadata": {}
        }
      ]
    },
    {
      "cell_type": "markdown",
      "source": [
        "# EJERCICIO D"
      ],
      "metadata": {
        "id": "aTq2MxTQXArg"
      }
    },
    {
      "cell_type": "code",
      "source": [
        "horas = ['00', '01', '02', '03', '04', '05', '06', '07', '08', '09', '10', '11', '12', '13', '14', '15', '16', '17', '18', '19', '20', '21', '22', '23']\n",
        "dias = ['LUNES', 'MARTES', 'MIERCOLES', 'JUEVES', 'VIERNES', 'SABADO', 'DOMINGO']\n",
        "\n",
        "datos = pd.DataFrame(index=horas, columns=dias)\n",
        "for col in datos.columns:\n",
        "    datos[col].values[:] = 0\n",
        "\n",
        "for day in historial['Start Time']:\n",
        "  dia = (day.split('-'))[0]+ '-' +(day.split('-'))[1]+ '-' +((day.split('-'))[2]).split()[0]\n",
        "  dia = datetime.strptime(dia, \"%Y-%m-%d\") #usamos objeto datetime\n",
        "  dia = dias[dia.weekday()]\n",
        "  hora = ((day.split('-')[2]).split()[1]).split(':')[0]\n",
        "  datos[dia][hora] += 1\n",
        "\n",
        "datos = datos.astype(np.float64)\n",
        "ax = sb.heatmap(datos, cmap='magma')"
      ],
      "metadata": {
        "colab": {
          "base_uri": "https://localhost:8080/",
          "height": 431
        },
        "id": "4t9yTPjoXJs1",
        "outputId": "b9408903-a494-470d-abff-7756f41a26b3"
      },
      "execution_count": 327,
      "outputs": [
        {
          "output_type": "display_data",
          "data": {
            "text/plain": [
              "<Figure size 1080x504 with 2 Axes>"
            ],
            "image/png": "[encoded data removed]"
          },
          "metadata": {}
        }
      ]
    },
    {
      "cell_type": "markdown",
      "source": [
        "# EJERCICIO E"
      ],
      "metadata": {
        "id": "1C5YCbCGePS0"
      }
    },
    {
      "cell_type": "code",
      "source": [
        "cant_anios = {}\n",
        "\n",
        "for title in historial.index:\n",
        "  anios = (historial['Start Time'][title].split('-'))[0]\n",
        "  if anios not in cant_anios:\n",
        "    cant_anios[anios] = 1\n",
        "  else:\n",
        "    cant_anios[anios] += 1\n",
        "\n",
        "plt.bar(cant_anios.keys(), cant_anios.values(), color = 'green')\n",
        "plt.xticks(rotation = -90)\n",
        "plt.show()"
      ],
      "metadata": {
        "colab": {
          "base_uri": "https://localhost:8080/",
          "height": 449
        },
        "id": "TVEuYCUBZJji",
        "outputId": "9ea28970-fa91-4f8e-e1d7-ce784e9de265"
      },
      "execution_count": 329,
      "outputs": [
        {
          "output_type": "display_data",
          "data": {
            "text/plain": [
              "<Figure size 1080x504 with 1 Axes>"
            ],
            "image/png": "[encoded data removed]"
          },
          "metadata": {}
        }
      ]
    },
    {
      "cell_type": "markdown",
      "source": [
        "# EJERCICIO F"
      ],
      "metadata": {
        "id": "YF5JeJMae1aP"
      }
    },
    {
      "cell_type": "code",
      "source": [
        "historial['Duration'] = historial['Duration'].apply(cambia_a_segundos)"
      ],
      "metadata": {
        "colab": {
          "base_uri": "https://localhost:8080/"
        },
        "id": "2PM3Nbo-e4fe",
        "outputId": "601e8ddc-ee59-44b6-d345-0fca9c7bb44d"
      },
      "execution_count": 332,
      "outputs": [
        {
          "output_type": "stream",
          "name": "stderr",
          "text": [
            "/usr/local/lib/python3.7/dist-packages/ipykernel_launcher.py:1: SettingWithCopyWarning: \n",
            "A value is trying to be set on a copy of a slice from a DataFrame.\n",
            "Try using .loc[row_indexer,col_indexer] = value instead\n",
            "\n",
            "See the caveats in the documentation: https://pandas.pydata.org/pandas-docs/stable/user_guide/indexing.html#returning-a-view-versus-a-copy\n",
            "  \"\"\"Entry point for launching an IPython kernel.\n"
          ]
        }
      ]
    },
    {
      "cell_type": "code",
      "source": [
        "tiempo_en_segundos = historial['Duration'].sum()\n",
        "t_en_mins = (tiempo_en_segundos / 60)\n",
        "t_en_hs = (t_en_mins/60)\n",
        "t_en_dias = (t_en_hs/24)\n",
        "\n",
        "t_en_dias"
      ],
      "metadata": {
        "colab": {
          "base_uri": "https://localhost:8080/"
        },
        "id": "9wI5fSI0jlNy",
        "outputId": "27bb02af-1dbf-41e1-cbec-8e22480fbbcd"
      },
      "execution_count": 334,
      "outputs": [
        {
          "output_type": "execute_result",
          "data": {
            "text/plain": [
              "99.78094907407409"
            ]
          },
          "metadata": {},
          "execution_count": 334
        }
      ]
    }
  ]
}